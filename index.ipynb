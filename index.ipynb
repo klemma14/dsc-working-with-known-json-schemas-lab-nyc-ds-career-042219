{
 "cells": [
  {
   "cell_type": "markdown",
   "metadata": {},
   "source": [
    "# Working with Known JSON Schemas - Lab"
   ]
  },
  {
   "cell_type": "markdown",
   "metadata": {},
   "source": [
    "## Introduction\n",
    "In this lab you'll practice working with json files whose schema you know beforehand."
   ]
  },
  {
   "cell_type": "markdown",
   "metadata": {},
   "source": [
    "## Objectives\n",
    "You will be able to:\n",
    "* Read JSON Documentation Schemas and translate into code\n",
    "* Extract data from known json schemas\n",
    "* Write data to predefined JSON schemas"
   ]
  },
  {
   "cell_type": "markdown",
   "metadata": {},
   "source": [
    "## Reading a JSON Schema\n",
    "\n",
    "Here's the JSON schema provided for a section of the NY Times API:\n",
    "<img src=\"images/nytimes_movie_schema.png\" width=500>\n",
    "\n",
    "or a fully expanded view:\n",
    "\n",
    "<img src=\"images/nytimes_movie_schema_detailed.png\" width=500>\n",
    "\n",
    "You can see this yourself here:\n",
    "https://developer.nytimes.com/movie_reviews_v2.json#/Documentation/GET/critics/%7Bresource-type%7D.json"
   ]
  },
  {
   "cell_type": "markdown",
   "metadata": {},
   "source": [
    "You can see that the master structure is a dictionary and has a key named 'response'. This is also a dictionary and has two keys: 'data' and 'meta'. As you continue to examine the schema hierarchy, you'll notice the vast majority in this case are dictionaries. "
   ]
  },
  {
   "cell_type": "markdown",
   "metadata": {},
   "source": [
    "## Loading the Data File\n",
    "\n",
    "Start by importing the json file. The sample response from the api is stored in a file **ny_times_movies.json**"
   ]
  },
  {
   "cell_type": "code",
   "execution_count": 2,
   "metadata": {},
   "outputs": [],
   "source": [
    "#Your code here\n",
    "import json \n",
    "f = open('ny_times_movies.json','r')\n",
    "data = json.load(f)"
   ]
  },
  {
   "cell_type": "code",
   "execution_count": 3,
   "metadata": {},
   "outputs": [
    {
     "name": "stdout",
     "output_type": "stream",
     "text": [
      "<class 'dict'>\n",
      "dict_keys(['status', 'copyright', 'has_more', 'num_results', 'results'])\n"
     ]
    }
   ],
   "source": [
    "print(type(data))\n",
    "print(data.keys())"
   ]
  },
  {
   "cell_type": "markdown",
   "metadata": {},
   "source": [
    "## Loading Specific Data\n",
    "\n",
    "Create a DataFrame of the major data container within the json file, listed under the 'results' heading in the schema above."
   ]
  },
  {
   "cell_type": "code",
   "execution_count": 4,
   "metadata": {},
   "outputs": [
    {
     "name": "stdout",
     "output_type": "stream",
     "text": [
      "<class 'list'> 20\n",
      "Review: Melissa McCarthy Is Criminally Good in ‘Can You Ever Forgive Me?’\n",
      "\n",
      "\n",
      "Review: ‘Charm City’ Vividly Captures the Streets of Baltimore\n",
      "\n",
      "\n",
      "Review: Paul Butterfield’s Story Is Told in ‘Horn From the Heart’\n",
      "\n",
      "\n",
      "Review: ‘The Price of Everything’ Asks $56 Billion Questions About Art\n",
      "\n",
      "\n",
      "Review: ‘Impulso’ Goes Backstage With a Flamenco Innovator\n",
      "\n",
      "\n",
      "Review: ‘Watergate’ Shocks Anew With Its True Tale of Political Scandal\n",
      "\n",
      "\n",
      "Review: In ‘Barbara,’ a Fictional Biopic of a French Chanteuse\n",
      "\n",
      "\n",
      "Review: A Russian Gymnast Goes ‘Over the Limit’\n",
      "\n",
      "\n",
      "Review: The Disturbing Obsession of ‘The Kindergarten Teacher’\n",
      "\n",
      "\n",
      "Review: In ‘Classical Period,’ a Deep Dive — Really Deep — Into Dante\n",
      "\n",
      "\n",
      "Review: Hard-Boiled Play in ‘Bad Times at the El Royale’\n",
      "\n",
      "\n",
      "Review: In ‘Beautiful Boy,’ a Writer Confronts His Son’s Meth Addiction\n",
      "\n",
      "\n",
      "Review: In ‘The Oath,’ a Pledge of Allegiance to a President Creates Chasms\n",
      "\n",
      "\n",
      "Review: ‘Bikini Moon’ Finds a Documentary Crew Under Its Subject’s Spell\n",
      "\n",
      "\n",
      "Review: ‘Goosebumps 2: Haunted Halloween’ Is Toothless Terror\n",
      "\n",
      "\n",
      "Review: In ‘The Sentence,’ a Woman Gets Prison, Her Family Also Pays\n",
      "\n",
      "\n",
      "Review: In ‘All Square,’ Taking Big Bets on Youth Baseball\n",
      "\n",
      "\n",
      "Review: The Drama ‘Sadie’ Finds a Teenager in a Tough Situation\n",
      "\n",
      "\n",
      "Review: In ‘After Everything,’ a Young Love Blooms in Crisis\n",
      "\n",
      "\n",
      "Review: ‘First Man’ Takes a Giant Leap for Man, a Smaller Step for Movies\n",
      "\n",
      "\n"
     ]
    }
   ],
   "source": [
    "#Your code here\n",
    "docs = data['results']\n",
    "print(type(docs), len(docs))\n",
    "for doc in docs:\n",
    "    print(doc['headline'])\n",
    "    print('\\n')"
   ]
  },
  {
   "cell_type": "markdown",
   "metadata": {},
   "source": [
    "## How many unique critics are there?"
   ]
  },
  {
   "cell_type": "code",
   "execution_count": 8,
   "metadata": {},
   "outputs": [
    {
     "name": "stdout",
     "output_type": "stream",
     "text": [
      "<class 'list'> 20\n",
      "1\n",
      "\n",
      "\n",
      "1\n",
      "\n",
      "\n",
      "1\n",
      "\n",
      "\n",
      "0\n",
      "\n",
      "\n",
      "0\n",
      "\n",
      "\n",
      "1\n",
      "\n",
      "\n",
      "1\n",
      "\n",
      "\n",
      "1\n",
      "\n",
      "\n",
      "1\n",
      "\n",
      "\n",
      "1\n",
      "\n",
      "\n",
      "0\n",
      "\n",
      "\n",
      "0\n",
      "\n",
      "\n",
      "0\n",
      "\n",
      "\n",
      "0\n",
      "\n",
      "\n",
      "0\n",
      "\n",
      "\n",
      "0\n",
      "\n",
      "\n",
      "0\n",
      "\n",
      "\n",
      "0\n",
      "\n",
      "\n",
      "0\n",
      "\n",
      "\n",
      "0\n",
      "\n",
      "\n"
     ]
    }
   ],
   "source": [
    "#Your code here\n",
    "docs = data['results']\n",
    "print(type(docs), len(docs))\n",
    "for doc in docs:\n",
    "    print((doc['critics_pick']))\n",
    "    print('\\n')"
   ]
  },
  {
   "cell_type": "markdown",
   "metadata": {},
   "source": [
    "## Create a new column for the review's url. Title the column 'review_url'"
   ]
  },
  {
   "cell_type": "code",
   "execution_count": 6,
   "metadata": {},
   "outputs": [],
   "source": [
    "#Your code here\n"
   ]
  },
  {
   "cell_type": "markdown",
   "metadata": {},
   "source": [
    "## How many results are in the file?"
   ]
  },
  {
   "cell_type": "code",
   "execution_count": null,
   "metadata": {},
   "outputs": [],
   "source": [
    "#Your code here"
   ]
  },
  {
   "cell_type": "markdown",
   "metadata": {},
   "source": [
    "## Summary\n",
    "Well done! Here you continued to gather practice extracting data from JSON files and transforming them into our standard tool of Pandas DataFrames."
   ]
  }
 ],
 "metadata": {
  "kernelspec": {
   "display_name": "Python 3",
   "language": "python",
   "name": "python3"
  },
  "language_info": {
   "codemirror_mode": {
    "name": "ipython",
    "version": 3
   },
   "file_extension": ".py",
   "mimetype": "text/x-python",
   "name": "python",
   "nbconvert_exporter": "python",
   "pygments_lexer": "ipython3",
   "version": "3.6.6"
  }
 },
 "nbformat": 4,
 "nbformat_minor": 2
}
